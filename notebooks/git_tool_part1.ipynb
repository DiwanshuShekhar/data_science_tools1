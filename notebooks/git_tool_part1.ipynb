{
 "cells": [
  {
   "cell_type": "markdown",
   "metadata": {
    "slideshow": {
     "slide_type": "slide"
    }
   },
   "source": [
    "# Git version control system"
   ]
  },
  {
   "cell_type": "markdown",
   "metadata": {
    "slideshow": {
     "slide_type": "subslide"
    }
   },
   "source": [
    "## Why we care?\n",
    "- Do you recall receiving/sharing files via email like **file_rev01.doc ... file_rev02.doc, file_final.doc, file_final1.doc or file_final_final.doc**\n",
    "- Making copies of projects/folders like **project_20aug2018**, **project_02sep2018 etc** in your computer"
   ]
  },
  {
   "cell_type": "markdown",
   "metadata": {
    "slideshow": {
     "slide_type": "subslide"
    }
   },
   "source": [
    "##  So what? What are the issues here?"
   ]
  },
  {
   "cell_type": "markdown",
   "metadata": {
    "slideshow": {
     "slide_type": "fragment"
    }
   },
   "source": [
    "- Most of the content is similar. Delta change is quite small.\n",
    "    + Wasteful of  storage space\n",
    "- Even in a month or a year, it is hard to understand what is the difference between different files/ folder.\n",
    "    + What is the timeline of changes. Why and what was done?\n",
    "- \n",
    ". \n",
    ". \n",
    "- "
   ]
  },
  {
   "cell_type": "markdown",
   "metadata": {
    "slideshow": {
     "slide_type": "subslide"
    }
   },
   "source": [
    "If we go back to adding suffix [like \\_01, \\_02, ...]. One thing we need to ask is, why we did this?\n",
    "\n",
    "+ Maybe \\_01, \\_02 is some kind of implicit timeline.\n",
    "    - one issue is we seldom keep meta data about different version of a file. Going back to a particular version is very hard.\n",
    "+ Parallel changes are not advisable. Who will resolve conflict(**merge conflict**) in words, lines etc.\n",
    "    - e.g. you are working  with someone and you need to keep updating documents alternatively to produce final document.\n",
    "+ If we agree on parallel changes to the documents, someone has to take care of merging."
   ]
  },
  {
   "cell_type": "markdown",
   "metadata": {
    "slideshow": {
     "slide_type": "notes"
    }
   },
   "source": [
    "During my students life. I have worked with people in this fashion. It was time consuming and not productive/"
   ]
  },
  {
   "cell_type": "markdown",
   "metadata": {
    "slideshow": {
     "slide_type": "subslide"
    }
   },
   "source": [
    "__Clearly we need a system(version control or source contro) to handle above issues.__\n",
    "\n",
    "A version control or source control\n",
    "- Allows to keep track of history of files\n",
    "- Allows creating different version of files"
   ]
  },
  {
   "cell_type": "markdown",
   "metadata": {
    "slideshow": {
     "slide_type": "slide"
    }
   },
   "source": [
    "|<center> <h1> Version control </h1> </center>"
   ]
  },
  {
   "cell_type": "markdown",
   "metadata": {
    "slideshow": {
     "slide_type": "subslide"
    }
   },
   "source": [
    "# Types of version control system\n",
    "- Centralized\n",
    "- Distributed\n",
    "\n",
    "**Centralized version control system  have _single point of failure_**\n"
   ]
  },
  {
   "cell_type": "markdown",
   "metadata": {
    "slideshow": {
     "slide_type": "slide"
    }
   },
   "source": [
    "|<center> <h1> Distributed version control system </h1>\n",
    "    <img src= \"./figures/git_dist_arch.png\" height= \"500\" width = \"700\">  </img>\n",
    "</center>\n",
    "\n"
   ]
  },
  {
   "cell_type": "markdown",
   "metadata": {
    "slideshow": {
     "slide_type": "notes"
    }
   },
   "source": [
    "code for above graph\n",
    "digraph G {\n",
    "  \"remote repo\" -> \"local repo1\";\n",
    "  \"remote repo\" -> \"local repo2\";\n",
    "  \"remote repo\" -> \"local repo3\";\n",
    "}"
   ]
  },
  {
   "cell_type": "markdown",
   "metadata": {
    "slideshow": {
     "slide_type": "subslide"
    }
   },
   "source": [
    "In Distributed version control system\n",
    "\n",
    "- Each user has a copy of repository.\n",
    "    + Copying is called **cloning.**\n",
    "    + Resulting copy is called **clone.**\n",
    "    \n",
    "**_Git is popular distributed version control system._**"
   ]
  },
  {
   "cell_type": "markdown",
   "metadata": {
    "slideshow": {
     "slide_type": "subslide"
    }
   },
   "source": [
    "# Some terminology\n"
   ]
  },
  {
   "cell_type": "markdown",
   "metadata": {
    "slideshow": {
     "slide_type": "fragment"
    }
   },
   "source": [
    "**Repository:  _Place Where version of files are kept_**. A repository can be cloned using git tool (command: __git clone repository url__)\n",
    "\n",
    "e.g you can clone current course repository as\n",
    "\n",
    "<font size=\"8\"><b> git clone https://github.com/psnegi/data_science_tools1.git </b> </font>\n"
   ]
  },
  {
   "cell_type": "markdown",
   "metadata": {
    "slideshow": {
     "slide_type": "fragment"
    }
   },
   "source": [
    "After cloning one has complete repository with all the history.\n",
    "\n"
   ]
  },
  {
   "cell_type": "markdown",
   "metadata": {
    "slideshow": {
     "slide_type": "subslide"
    }
   },
   "source": [
    "Let's try cloning course repository. \n",
    "\n",
    "__Do you remeber how to run commands in jupyter notebook?__"
   ]
  },
  {
   "cell_type": "code",
   "execution_count": 1,
   "metadata": {
    "slideshow": {
     "slide_type": "subslide"
    }
   },
   "outputs": [],
   "source": [
    "# write git clonning command here\n"
   ]
  },
  {
   "cell_type": "code",
   "execution_count": 2,
   "metadata": {
    "slideshow": {
     "slide_type": "notes"
    }
   },
   "outputs": [
    {
     "name": "stdout",
     "output_type": "stream",
     "text": [
      "Cloning into 'data_science_tools1'...\n",
      "remote: Enumerating objects: 163, done.\u001b[K\n",
      "remote: Counting objects: 100% (163/163), done.\u001b[K\n",
      "remote: Compressing objects: 100% (98/98), done.\u001b[K\n",
      "remote: Total 163 (delta 62), reused 142 (delta 44), pack-reused 0\u001b[K\n",
      "Receiving objects: 100% (163/163), 3.86 MiB | 5.22 MiB/s, done.\n",
      "Resolving deltas: 100% (62/62), done.\n",
      "Checking connectivity... done.\n"
     ]
    }
   ],
   "source": [
    "! git clone  https://github.com/psnegi/data_science_tools1.git"
   ]
  },
  {
   "cell_type": "markdown",
   "metadata": {
    "slideshow": {
     "slide_type": "fragment"
    }
   },
   "source": [
    "**Let's verify course folder in local file system**"
   ]
  },
  {
   "cell_type": "code",
   "execution_count": 3,
   "metadata": {
    "slideshow": {
     "slide_type": "fragment"
    }
   },
   "outputs": [],
   "source": [
    "# write directory listing command here and see the output"
   ]
  },
  {
   "cell_type": "markdown",
   "metadata": {
    "slideshow": {
     "slide_type": "subslide"
    }
   },
   "source": [
    "## Working Tree\n",
    "Collection of files in a local repository is called working tree.\n",
    "\n",
    "A file in the working tree can have following state\n",
    "\n",
    "\n",
    "<table style=\"width:100%\" >\n",
    "    \n",
    "  <tr>\n",
    "    <th> <font size = \"6\"> state </font> </th>\n",
    "    <th> <font size = \"6\">Description </font></th> \n",
    "\n",
    "  </tr>\n",
    "  <tr>\n",
    "    <td> <font size = \"6\">untracked </font></td>\n",
    "        <td> <font size = \"6\">file not tracked by git </font></td>\n",
    "    <td Smith</td>\n",
    "  </tr>\n",
    "  <tr>\n",
    "    <td><font size = \"6\">tracked </font></td>\n",
    "    <td><font size = \"6\">committed and not staged </font></td>\n",
    "  </tr>\n",
    "  <tr>\n",
    "    <td><font size = \"6\">staged </font></td>\n",
    "    <td><font size = \"6\"> to be included in next commit <font></td>\n",
    "  </tr>\n",
    "  <tr>\n",
    "    <td><font size = \"6\">dirty/modified </font></td>\n",
    "    <td><font size = \"6\"> file has changes but not staged <font></td>\n",
    "  </tr>\n",
    "</table>\n",
    "\n"
   ]
  },
  {
   "cell_type": "markdown",
   "metadata": {
    "slideshow": {
     "slide_type": "subslide"
    }
   },
   "source": [
    "## But wait. How one creates remote reopsitory on github.\n",
    "Click on top right + icon in www.github.com"
   ]
  },
  {
   "cell_type": "markdown",
   "metadata": {
    "slideshow": {
     "slide_type": "fragment"
    }
   },
   "source": [
    "<img src = \"./figures/create_remote_rep01.png\"> </img>"
   ]
  },
  {
   "cell_type": "markdown",
   "metadata": {
    "slideshow": {
     "slide_type": "subslide"
    }
   },
   "source": [
    "give a name(like **analysis_of_word_bank** in the following image) -> select private or public -> check Initialize this repository with a README(optional) >add licence and .gitignore(optional) ->  **then click on create repository**\n",
    "<img src= \"./figures/create_remote_rep02.png\" height = \"800\" width = \"800\"> </img>"
   ]
  },
  {
   "cell_type": "markdown",
   "metadata": {
    "slideshow": {
     "slide_type": "subslide"
    }
   },
   "source": [
    "follow on of the option to connect new or exisiting local repository \n",
    "\n",
    "<img src= \"./figures/create_remote_rep03.png\" height = \"1000\" width = \"1000\"> </img>"
   ]
  },
  {
   "cell_type": "markdown",
   "metadata": {
    "slideshow": {
     "slide_type": "slide"
    }
   },
   "source": [
    "<center> <h1> Demo for creating remote repository on github.com </h1> </center>"
   ]
  },
  {
   "cell_type": "markdown",
   "metadata": {
    "slideshow": {
     "slide_type": "subslide"
    }
   },
   "source": [
    "**We have local and remote repository.**\n",
    "\n",
    "Next natural things to understand is.\n",
    "\n",
    "- How to add file ?\n",
    "- How to synchornize files between local and remote ?"
   ]
  },
  {
   "cell_type": "markdown",
   "metadata": {
    "slideshow": {
     "slide_type": "slide"
    }
   },
   "source": [
    "# Adding to a Git repository\n",
    "Do the following two step to make changes persist to your local repository.\n",
    "\n",
    "**git add**: add the selected changes to the staging area\n",
    "\n",
    "**git commit -m \"commit message\"**: commit the staged changes into the Git repository\n",
    "\n",
    "**git status**: to check status of local file.\n",
    "\n",
    "<img src = \"./figures/git_add_repo.png\"> </img>"
   ]
  },
  {
   "cell_type": "markdown",
   "metadata": {
    "slideshow": {
     "slide_type": "notes"
    }
   },
   "source": [
    "dot code for above figure\n",
    "digraph G {\n",
    "   rankdir=\"LR\";\n",
    "  \"working tree\" -> \"staging area\";\n",
    "  \"staging area\" -> \"Git repository\";\n",
    "}"
   ]
  },
  {
   "cell_type": "markdown",
   "metadata": {
    "slideshow": {
     "slide_type": "subslide"
    }
   },
   "source": [
    "# File adding demo\n",
    "- create a files\n",
    "    + echo \"This repository contains world bank loan analysis\" > README.md\n",
    "        + echo \"print(list([i**2 for i in range(10)]))\"> square.py\n",
    "- git status\n",
    "- git commit -m \"world bank loan lending analysis\"\n",
    "    + it generates a unique 40 char long hashes(SHA-1 hashes). It like timestamping the repository. We can go back to this state of repositoro]y if we know the commit id.\n",
    "\n",
    "\n",
    "\n",
    "**run git show to see last commit id**"
   ]
  },
  {
   "cell_type": "markdown",
   "metadata": {
    "slideshow": {
     "slide_type": "subslide"
    }
   },
   "source": [
    "<center> <h1> is README.md, square.py in remote repository? </h1></center>"
   ]
  },
  {
   "cell_type": "markdown",
   "metadata": {
    "slideshow": {
     "slide_type": "fragment"
    }
   },
   "source": [
    "<center> <h1>How to synchornize  to remote repository? </h1></center>"
   ]
  },
  {
   "cell_type": "markdown",
   "metadata": {
    "slideshow": {
     "slide_type": "fragment"
    }
   },
   "source": [
    "<center > <b>git push origin master  </b> is used to synchronize the local repository to remote repository.</center>\n",
    "\n",
    "- origin refers to repository you cloned from\n",
    "\n",
    "- master refers to local branch(which is master right now)"
   ]
  },
  {
   "cell_type": "markdown",
   "metadata": {
    "slideshow": {
     "slide_type": "subslide"
    }
   },
   "source": [
    " <center> <b>  Check remote repository on github </b> </center>"
   ]
  },
  {
   "cell_type": "markdown",
   "metadata": {
    "slideshow": {
     "slide_type": "slide"
    }
   },
   "source": [
    "# Why do we need branch concept\n",
    "Why we care about branch concept?\n",
    "Note that master branch generally contains production code.\n",
    "\n",
    "\n",
    "- Allows to work on different versions of your files\n",
    "- By switching to different branches one can work on different features.\n",
    "\n",
    "\n",
    "\n",
    "*__You can also work on your clone of master.  Finish assigned features/work and after testing can push code to remote master(production).*__\n",
    "\n",
    "__*run git branch to see all the branches in your repository*__"
   ]
  },
  {
   "cell_type": "markdown",
   "metadata": {
    "slideshow": {
     "slide_type": "subslide"
    }
   },
   "source": [
    "__*Actually pushing to remote in real production environment is bit more involved*__\n",
    "\n",
    "- Run some some unit and integration test for assigned feature.\n",
    "- If success push to remote master\n",
    "- Run whole integration suite in deployment pipleline.\n",
    "    + some stage may mock externel dependencies.\n",
    "- Promote to production.\n",
    "    + Manual or continous.\n"
   ]
  },
  {
   "cell_type": "markdown",
   "metadata": {
    "slideshow": {
     "slide_type": "subslide"
    }
   },
   "source": [
    "To work on new feature/issue you create a branch. Let's say square.py was supposed to print square of number upto 10. Clearly is print only upto 9. Hence we need to fix this. Let's say we got assiged this feature\n",
    "\n",
    "- We need to create a branch. Use **git checkout -b branch_name**. It will create and switch you to the new branch. **run git branch to confirm this**.\n",
    "- modify the code and **git add square.py, git commit -m \"fixed range issue in square\"**\n",
    "- Note that branch is local. You may push branch to remote.\n",
    "    + git push  origin branch_name"
   ]
  },
  {
   "cell_type": "markdown",
   "metadata": {
    "slideshow": {
     "slide_type": "subslide"
    }
   },
   "source": [
    "## How to get this fix into local master branch(production) and push it to remote.\n",
    "\n",
    "- switch to master and run **git merge branch_name**\n",
    "- **git pull origin master**. See if remote master has change.\n",
    "    + this may results in merge conficts.\n",
    "- **git push origin master**    "
   ]
  },
  {
   "cell_type": "markdown",
   "metadata": {
    "slideshow": {
     "slide_type": "slide"
    }
   },
   "source": [
    "# Resources\n",
    "## Book\n",
    "- [Pro Git book](https://git-scm.com/book/en/v2) by Scott Chacon and Ben Straub \n",
    "- [github guides](https://guides.github.com/)"
   ]
  }
 ],
 "metadata": {
  "celltoolbar": "Slideshow",
  "kernelspec": {
   "display_name": "Python 3",
   "language": "python",
   "name": "python3"
  },
  "language_info": {
   "codemirror_mode": {
    "name": "ipython",
    "version": 3
   },
   "file_extension": ".py",
   "mimetype": "text/x-python",
   "name": "python",
   "nbconvert_exporter": "python",
   "pygments_lexer": "ipython3",
   "version": "3.5.2"
  }
 },
 "nbformat": 4,
 "nbformat_minor": 2
}
