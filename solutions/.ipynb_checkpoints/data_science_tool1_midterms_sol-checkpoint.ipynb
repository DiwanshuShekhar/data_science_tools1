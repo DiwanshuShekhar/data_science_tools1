{
 "cells": [
  {
   "cell_type": "markdown",
   "metadata": {},
   "source": [
    "# Data Science tools1 midterm winter 2019. \n",
    "- Total Time 1.45 Hours\n",
    "- Please upload completed notebook to canvas before 8.50 p.m\n",
    "- You are allowed to use any thing to solve problem in this notebook\n",
    "- Talking online or to other person is not allowed"
   ]
  },
  {
   "cell_type": "markdown",
   "metadata": {},
   "source": [
    "# Q1"
   ]
  },
  {
   "cell_type": "code",
   "execution_count": 5,
   "metadata": {},
   "outputs": [
    {
     "name": "stdout",
     "output_type": "stream",
     "text": [
      "<table class=\"security-wait-times two-col entity entity-bean bean-security-wait-times\" about=\"/block/security-wait-times\" typeof=\"\">\r\n",
      "  <tbody>\r\n",
      "\r\n",
      "    <!-- Bridge -->\r\n",
      "    <tr class=\"security-checkpoint concourse-a-bridge odd\">\r\n",
      "      <td class=\"label\">\r\n",
      "        Bridge Security      </td>\r\n",
      "      <td class=\"status align-right\">23 min</td>\r\n",
      "    </tr>\r\n",
      "    \r\n",
      "        <!-- /Bridge -->\r\n",
      "\r\n",
      "    <!-- North Lines -->\r\n",
      "    <tr class=\"security-checkpoint north-lines odd\">\r\n",
      "      <td class=\"label\">\r\n",
      "        North Security      </td>\r\n",
      "      <td class=\"status align-right\">14 min</td>\r\n",
      "    </tr>\r\n",
      "    \r\n",
      "        <tr class=\"security-checkpoint precheck north-lines-precheck even\">\r\n",
      "      <td class=\"label\">\r\n",
      "        TSA PreCheck Lane\r\n",
      "      </td>\r\n",
      "      <td class=\"status align-right\">7 min</td>\r\n",
      "    </tr>\r\n",
      "        <!-- /North Lines -->\r\n",
      "\r\n",
      "    <!-- South Lines -->\r\n",
      "    <tr class=\"security-checkpoint south-lines odd\">\r\n",
      "      <td class=\"label\">\r\n",
      "        South Security      </td>\r\n",
      "      <td class=\"status align-right\">32 min</td>\r\n",
      "    </tr>\r\n",
      "    \r\n",
      "        <tr class=\"security-checkpoint precheck south-lines-precheck even\">\r\n",
      "      <td class=\"label\">\r\n",
      "        TSA PreCheck Lane\r\n",
      "      </td>\r\n",
      "      <td class=\"status align-right\">5 min</td>\r\n",
      "    </tr>\r\n",
      "        <!-- /South Lines -->\r\n",
      "\r\n",
      "  </tbody>\r\n",
      "</table>\r\n",
      "\r\n"
     ]
    }
   ],
   "source": [
    "! curl -s https://www.flydenver.com/security| grep -A 44 \"<table\""
   ]
  },
  {
   "cell_type": "markdown",
   "metadata": {},
   "source": [
    "# if you are looking for exact solution"
   ]
  },
  {
   "cell_type": "code",
   "execution_count": 31,
   "metadata": {},
   "outputs": [
    {
     "name": "stdout",
     "output_type": "stream",
     "text": [
      "<table class=\"security-wait-times two-col entity entity-bean bean-security-wait-times\" about=\"/block/security-wait-times\" typeof=\"\">\r\n",
      "  <tbody>\r\n",
      "\r\n",
      "    <!-- Bridge -->\r\n",
      "    <tr class=\"security-checkpoint concourse-a-bridge odd\">\r\n",
      "      <td class=\"label\">\r\n",
      "        Bridge Security      </td>\r\n",
      "      <td class=\"status align-right\">28 min</td>\r\n",
      "    </tr>\r\n",
      "    \r\n",
      "        <!-- /Bridge -->\r\n",
      "\r\n",
      "    <!-- North Lines -->\r\n",
      "    <tr class=\"security-checkpoint north-lines odd\">\r\n",
      "      <td class=\"label\">\r\n",
      "        North Security      </td>\r\n",
      "      <td class=\"status align-right\">14 min</td>\r\n",
      "    </tr>\r\n",
      "    \r\n",
      "        <tr class=\"security-checkpoint precheck north-lines-precheck even\">\r\n",
      "      <td class=\"label\">\r\n",
      "        TSA PreCheck Lane\r\n",
      "      </td>\r\n",
      "      <td class=\"status align-right\">7 min</td>\r\n",
      "    </tr>\r\n",
      "        <!-- /North Lines -->\r\n",
      "\r\n",
      "    <!-- South Lines -->\r\n",
      "    <tr class=\"security-checkpoint south-lines odd\">\r\n",
      "      <td class=\"label\">\r\n",
      "        South Security      </td>\r\n",
      "      <td class=\"status align-right\">32 min</td>\r\n",
      "    </tr>\r\n",
      "    \r\n",
      "        <tr class=\"security-checkpoint precheck south-lines-precheck even\">\r\n",
      "      <td class=\"label\">\r\n",
      "        TSA PreCheck Lane\r\n",
      "      </td>\r\n",
      "      <td class=\"status align-right\">5 min</td>\r\n",
      "    </tr>\r\n",
      "        <!-- /South Lines -->\r\n",
      "\r\n",
      "  </tbody>\r\n",
      "</table>\u0000"
     ]
    }
   ],
   "source": [
    "!curl -s https://www.flydenver.com/security|grep -zoE \"<table class.*table>\""
   ]
  }
 ],
 "metadata": {
  "kernelspec": {
   "display_name": "Python 3",
   "language": "python",
   "name": "python3"
  },
  "language_info": {
   "codemirror_mode": {
    "name": "ipython",
    "version": 3
   },
   "file_extension": ".py",
   "mimetype": "text/x-python",
   "name": "python",
   "nbconvert_exporter": "python",
   "pygments_lexer": "ipython3",
   "version": "3.5.2"
  }
 },
 "nbformat": 4,
 "nbformat_minor": 2
}
